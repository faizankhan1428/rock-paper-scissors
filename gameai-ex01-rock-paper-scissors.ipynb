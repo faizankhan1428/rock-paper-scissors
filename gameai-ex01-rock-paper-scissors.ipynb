{
 "cells": [
  {
   "cell_type": "markdown",
   "id": "898001c0",
   "metadata": {
    "papermill": {
     "duration": 0.003552,
     "end_time": "2025-07-24T09:14:12.400109",
     "exception": false,
     "start_time": "2025-07-24T09:14:12.396557",
     "status": "completed"
    },
    "tags": []
   },
   "source": [
    "<div style=\"background-color:#e6f0ff; padding:15px; border-radius:10px; font-size:16px\">\n",
    "\n",
    "### 🕹️ Game AI - Exercise 1: Rock Paper Scissors (Rule-Based AI)\n",
    "\n",
    "</div>\n"
   ]
  },
  {
   "cell_type": "markdown",
   "id": "d0f49a1d",
   "metadata": {
    "_cell_guid": "b1076dfc-b9ad-4769-8c92-a6c4dae69d19",
    "_uuid": "8f2839f25d086af736a60e9eeb907d3b93b6e0e5",
    "papermill": {
     "duration": 0.002401,
     "end_time": "2025-07-24T09:14:12.405097",
     "exception": false,
     "start_time": "2025-07-24T09:14:12.402696",
     "status": "completed"
    },
    "tags": []
   },
   "source": [
    "## Objective:\n",
    "Build a minimal Rock-Paper-Scissors game where an AI agent competes against a user or random opponent using rule-based logic."
   ]
  },
  {
   "cell_type": "markdown",
   "id": "09427762",
   "metadata": {
    "papermill": {
     "duration": 0.002808,
     "end_time": "2025-07-24T09:14:12.410874",
     "exception": false,
     "start_time": "2025-07-24T09:14:12.408066",
     "status": "completed"
    },
    "tags": []
   },
   "source": [
    "## Minimal Functional Version"
   ]
  },
  {
   "cell_type": "code",
   "execution_count": 1,
   "id": "97298166",
   "metadata": {
    "execution": {
     "iopub.execute_input": "2025-07-24T09:14:12.419027Z",
     "iopub.status.busy": "2025-07-24T09:14:12.417603Z",
     "iopub.status.idle": "2025-07-24T09:14:12.429658Z",
     "shell.execute_reply": "2025-07-24T09:14:12.428509Z"
    },
    "papermill": {
     "duration": 0.018077,
     "end_time": "2025-07-24T09:14:12.432358",
     "exception": false,
     "start_time": "2025-07-24T09:14:12.414281",
     "status": "completed"
    },
    "tags": []
   },
   "outputs": [
    {
     "name": "stdout",
     "output_type": "stream",
     "text": [
      "User move: scissors\n",
      "AI move: rock\n",
      "Result: AI wins!\n"
     ]
    }
   ],
   "source": [
    "# Game AI Exercise 01 - Rock Paper Scissors\n",
    "\n",
    "import random\n",
    "\n",
    "# Simulate a user move instead of using input()\n",
    "user_move = random.choice(['rock', 'paper', 'scissors'])\n",
    "ai_move = random.choice(['rock', 'paper', 'scissors'])\n",
    "\n",
    "# Game logic\n",
    "def decide_winner(user, ai):\n",
    "    if user == ai:\n",
    "        return \"It's a tie!\"\n",
    "    elif (user == 'rock' and ai == 'scissors') or \\\n",
    "         (user == 'scissors' and ai == 'paper') or \\\n",
    "         (user == 'paper' and ai == 'rock'):\n",
    "        return \"User wins!\"\n",
    "    else:\n",
    "        return \"AI wins!\"\n",
    "\n",
    "# Display the moves and result\n",
    "print(\"User move:\", user_move)\n",
    "print(\"AI move:\", ai_move)\n",
    "print(\"Result:\", decide_winner(user_move, ai_move))"
   ]
  },
  {
   "cell_type": "markdown",
   "id": "11444b02",
   "metadata": {
    "papermill": {
     "duration": 0.002171,
     "end_time": "2025-07-24T09:14:12.438896",
     "exception": false,
     "start_time": "2025-07-24T09:14:12.436725",
     "status": "completed"
    },
    "tags": []
   },
   "source": [
    "## ✅ Summary:\n",
    "In this exercise, we simulate a simple Rock-Paper-Scissors game between a user and an AI using random choices. The game logic is implemented using conditionals, and the result is displayed accordingly."
   ]
  }
 ],
 "metadata": {
  "kaggle": {
   "accelerator": "none",
   "dataSources": [],
   "dockerImageVersionId": 31089,
   "isGpuEnabled": false,
   "isInternetEnabled": true,
   "language": "python",
   "sourceType": "notebook"
  },
  "kernelspec": {
   "display_name": "Python 3",
   "language": "python",
   "name": "python3"
  },
  "language_info": {
   "codemirror_mode": {
    "name": "ipython",
    "version": 3
   },
   "file_extension": ".py",
   "mimetype": "text/x-python",
   "name": "python",
   "nbconvert_exporter": "python",
   "pygments_lexer": "ipython3",
   "version": "3.11.13"
  },
  "papermill": {
   "default_parameters": {},
   "duration": 5.575182,
   "end_time": "2025-07-24T09:14:12.863784",
   "environment_variables": {},
   "exception": null,
   "input_path": "__notebook__.ipynb",
   "output_path": "__notebook__.ipynb",
   "parameters": {},
   "start_time": "2025-07-24T09:14:07.288602",
   "version": "2.6.0"
  }
 },
 "nbformat": 4,
 "nbformat_minor": 5
}
